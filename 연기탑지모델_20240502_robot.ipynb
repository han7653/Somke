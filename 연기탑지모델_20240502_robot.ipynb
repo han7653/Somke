{
  "nbformat": 4,
  "nbformat_minor": 0,
  "metadata": {
    "colab": {
      "provenance": [],
      "authorship_tag": "ABX9TyO0eQcbhX5vlvXrSFdrRQby",
      "include_colab_link": true
    },
    "kernelspec": {
      "name": "python3",
      "display_name": "Python 3"
    },
    "language_info": {
      "name": "python"
    }
  },
  "cells": [
    {
      "cell_type": "markdown",
      "metadata": {
        "id": "view-in-github",
        "colab_type": "text"
      },
      "source": [
        "<a href=\"https://colab.research.google.com/github/han7653/Somke/blob/main/%EC%97%B0%EA%B8%B0%ED%83%91%EC%A7%80%EB%AA%A8%EB%8D%B8_20240502_robot.ipynb\" target=\"_parent\"><img src=\"https://colab.research.google.com/assets/colab-badge.svg\" alt=\"Open In Colab\"/></a>"
      ]
    },
    {
      "cell_type": "markdown",
      "source": [
        "#연기탐지모델\n",
        "\n",
        "2024년 05 월 02일 로봇응용 SW전문가 과정 -한승헌\n",
        "\n"
      ],
      "metadata": {
        "id": "THcNlDnoGHMf"
      }
    },
    {
      "cell_type": "markdown",
      "source": [
        "##연기탐지모델이란?\n"
      ],
      "metadata": {
        "id": "7LO1f3pKGNuP"
      }
    },
    {
      "cell_type": "markdown",
      "source": [
        "1. 화재로 인한 연기가 일어났을때 확인가능\n",
        "2. 그러므로 빠른 대처 가능"
      ],
      "metadata": {
        "id": "QZNz3uIAGO4R"
      }
    },
    {
      "cell_type": "markdown",
      "source": [
        "##연기 탐지를 위한 데이터 세트\n",
        "\n",
        "https://public.roboflow.com/object-detection/wildfire-smoke/"
      ],
      "metadata": {
        "id": "8IskBc3vGQFQ"
      }
    },
    {
      "cell_type": "markdown",
      "source": [
        "##사용 AI모델\n",
        "\n",
        "1.yoloV5\n",
        "\n",
        ".가장 빠른 인식률로 실시간 탐지에 유리하다.\n",
        "\n",
        ". CNN알고리즘 중 가장 활발하게 연구활동이 이루어지고 있다.\n",
        "\n",
        "2.yoloV5는 객체 탐지 방법론의 진보를 나타낸다."
      ],
      "metadata": {
        "id": "fcCqYRdlGRCn"
      }
    },
    {
      "cell_type": "markdown",
      "source": [
        "##AI 응용 SW를 개발하는 5단계\n",
        "     1.What? 내가 어떤 모델을 개발할것인지\n",
        "     2.DataSet을 준비한다. -양질의 DataSet은 SW품질을 좌우한다.\n",
        "     3.적합한 Pre-Trained된 AI 모델을 선택한다.\n",
        "\n",
        "-오늘 공부할 내용\n",
        "\n",
        "     4.FIne-Tunning : 2에서 준비한 DataSet을 이용해서 3을 Dustomizing한다.\n",
        "\n",
        "-마지막으로\n",
        "    \n",
        "     5.응용 SW를 제작한다.\n",
        "      .WebApp - 이전에 실습했던 TM을 기억한다.\n",
        "      .nativeApp -python과 pyQT로 작성했던 기억\n"
      ],
      "metadata": {
        "id": "z5lshde0GSFg"
      }
    },
    {
      "cell_type": "markdown",
      "source": [
        "#YOLO Clone from github"
      ],
      "metadata": {
        "id": "2zARTyKKGYeH"
      }
    },
    {
      "cell_type": "markdown",
      "source": [
        "##작업 폴더를 준비하고 이동한다."
      ],
      "metadata": {
        "id": "Gq8p8ErQGZlj"
      }
    },
    {
      "cell_type": "code",
      "source": [
        "%cd /content"
      ],
      "metadata": {
        "colab": {
          "base_uri": "https://localhost:8080/"
        },
        "id": "RM2lYUFPGacH",
        "outputId": "d56db96d-715d-4f4b-95aa-cac269096e24"
      },
      "execution_count": null,
      "outputs": [
        {
          "output_type": "stream",
          "name": "stdout",
          "text": [
            "/content\n"
          ]
        }
      ]
    },
    {
      "cell_type": "markdown",
      "source": [
        "##github에서 복사해오기"
      ],
      "metadata": {
        "id": "scQ0SXGJGgzP"
      }
    },
    {
      "cell_type": "code",
      "source": [
        "!git clone https://github.com/ultralytics/yolov5"
      ],
      "metadata": {
        "colab": {
          "base_uri": "https://localhost:8080/"
        },
        "id": "I8BLzCT3Ghnn",
        "outputId": "c91a2b4f-02a7-44fa-e1bd-4152286d5fb4"
      },
      "execution_count": null,
      "outputs": [
        {
          "output_type": "stream",
          "name": "stdout",
          "text": [
            "fatal: destination path 'yolov5' already exists and is not an empty directory.\n"
          ]
        }
      ]
    },
    {
      "cell_type": "markdown",
      "source": [
        "##개발환경을 install한다"
      ],
      "metadata": {
        "id": "PVUG2IYCGimQ"
      }
    },
    {
      "cell_type": "code",
      "source": [
        "%pwd"
      ],
      "metadata": {
        "colab": {
          "base_uri": "https://localhost:8080/",
          "height": 35
        },
        "id": "Rsh1_SxTGjbg",
        "outputId": "9af4736e-b387-41e7-8d04-d134f293b884"
      },
      "execution_count": null,
      "outputs": [
        {
          "output_type": "execute_result",
          "data": {
            "text/plain": [
              "'/content'"
            ],
            "application/vnd.google.colaboratory.intrinsic+json": {
              "type": "string"
            }
          },
          "metadata": {},
          "execution_count": 29
        }
      ]
    },
    {
      "cell_type": "code",
      "source": [
        "%cd yolov5\n",
        "%pip install -r requirements.txt"
      ],
      "metadata": {
        "colab": {
          "base_uri": "https://localhost:8080/"
        },
        "id": "j-yxGnTjGkKP",
        "outputId": "acff8f3e-acfa-47b3-9181-08ad8f08be71"
      },
      "execution_count": null,
      "outputs": [
        {
          "output_type": "stream",
          "name": "stdout",
          "text": [
            "/content/yolov5\n",
            "Collecting gitpython>=3.1.30 (from -r requirements.txt (line 5))\n",
            "  Using cached GitPython-3.1.43-py3-none-any.whl (207 kB)\n",
            "Requirement already satisfied: matplotlib>=3.3 in /usr/local/lib/python3.10/dist-packages (from -r requirements.txt (line 6)) (3.7.1)\n",
            "Requirement already satisfied: numpy>=1.23.5 in /usr/local/lib/python3.10/dist-packages (from -r requirements.txt (line 7)) (1.25.2)\n",
            "Requirement already satisfied: opencv-python>=4.1.1 in /usr/local/lib/python3.10/dist-packages (from -r requirements.txt (line 8)) (4.8.0.76)\n",
            "Requirement already satisfied: pillow>=10.3.0 in /usr/local/lib/python3.10/dist-packages (from -r requirements.txt (line 9)) (10.3.0)\n",
            "Requirement already satisfied: psutil in /usr/local/lib/python3.10/dist-packages (from -r requirements.txt (line 10)) (5.9.5)\n",
            "Requirement already satisfied: PyYAML>=5.3.1 in /usr/local/lib/python3.10/dist-packages (from -r requirements.txt (line 11)) (6.0.1)\n",
            "Requirement already satisfied: requests>=2.23.0 in /usr/local/lib/python3.10/dist-packages (from -r requirements.txt (line 12)) (2.31.0)\n",
            "Requirement already satisfied: scipy>=1.4.1 in /usr/local/lib/python3.10/dist-packages (from -r requirements.txt (line 13)) (1.11.4)\n",
            "Collecting thop>=0.1.1 (from -r requirements.txt (line 14))\n",
            "  Using cached thop-0.1.1.post2209072238-py3-none-any.whl (15 kB)\n",
            "Requirement already satisfied: torch>=1.8.0 in /usr/local/lib/python3.10/dist-packages (from -r requirements.txt (line 15)) (2.2.1+cu121)\n",
            "Requirement already satisfied: torchvision>=0.9.0 in /usr/local/lib/python3.10/dist-packages (from -r requirements.txt (line 16)) (0.17.1+cu121)\n",
            "Requirement already satisfied: tqdm>=4.64.0 in /usr/local/lib/python3.10/dist-packages (from -r requirements.txt (line 17)) (4.66.2)\n",
            "Collecting ultralytics>=8.0.232 (from -r requirements.txt (line 18))\n",
            "  Using cached ultralytics-8.2.6-py3-none-any.whl (755 kB)\n",
            "Requirement already satisfied: pandas>=1.1.4 in /usr/local/lib/python3.10/dist-packages (from -r requirements.txt (line 27)) (2.0.3)\n",
            "Requirement already satisfied: seaborn>=0.11.0 in /usr/local/lib/python3.10/dist-packages (from -r requirements.txt (line 28)) (0.13.1)\n",
            "Requirement already satisfied: setuptools>=65.5.1 in /usr/local/lib/python3.10/dist-packages (from -r requirements.txt (line 42)) (67.7.2)\n",
            "Requirement already satisfied: wheel>=0.38.0 in /usr/local/lib/python3.10/dist-packages (from -r requirements.txt (line 50)) (0.43.0)\n",
            "Collecting gitdb<5,>=4.0.1 (from gitpython>=3.1.30->-r requirements.txt (line 5))\n",
            "  Using cached gitdb-4.0.11-py3-none-any.whl (62 kB)\n",
            "Requirement already satisfied: contourpy>=1.0.1 in /usr/local/lib/python3.10/dist-packages (from matplotlib>=3.3->-r requirements.txt (line 6)) (1.2.1)\n",
            "Requirement already satisfied: cycler>=0.10 in /usr/local/lib/python3.10/dist-packages (from matplotlib>=3.3->-r requirements.txt (line 6)) (0.12.1)\n",
            "Requirement already satisfied: fonttools>=4.22.0 in /usr/local/lib/python3.10/dist-packages (from matplotlib>=3.3->-r requirements.txt (line 6)) (4.51.0)\n",
            "Requirement already satisfied: kiwisolver>=1.0.1 in /usr/local/lib/python3.10/dist-packages (from matplotlib>=3.3->-r requirements.txt (line 6)) (1.4.5)\n",
            "Requirement already satisfied: packaging>=20.0 in /usr/local/lib/python3.10/dist-packages (from matplotlib>=3.3->-r requirements.txt (line 6)) (24.0)\n",
            "Requirement already satisfied: pyparsing>=2.3.1 in /usr/local/lib/python3.10/dist-packages (from matplotlib>=3.3->-r requirements.txt (line 6)) (3.1.2)\n",
            "Requirement already satisfied: python-dateutil>=2.7 in /usr/local/lib/python3.10/dist-packages (from matplotlib>=3.3->-r requirements.txt (line 6)) (2.8.2)\n",
            "Requirement already satisfied: charset-normalizer<4,>=2 in /usr/local/lib/python3.10/dist-packages (from requests>=2.23.0->-r requirements.txt (line 12)) (3.3.2)\n",
            "Requirement already satisfied: idna<4,>=2.5 in /usr/local/lib/python3.10/dist-packages (from requests>=2.23.0->-r requirements.txt (line 12)) (3.7)\n",
            "Requirement already satisfied: urllib3<3,>=1.21.1 in /usr/local/lib/python3.10/dist-packages (from requests>=2.23.0->-r requirements.txt (line 12)) (2.0.7)\n",
            "Requirement already satisfied: certifi>=2017.4.17 in /usr/local/lib/python3.10/dist-packages (from requests>=2.23.0->-r requirements.txt (line 12)) (2024.2.2)\n",
            "Requirement already satisfied: filelock in /usr/local/lib/python3.10/dist-packages (from torch>=1.8.0->-r requirements.txt (line 15)) (3.13.4)\n",
            "Requirement already satisfied: typing-extensions>=4.8.0 in /usr/local/lib/python3.10/dist-packages (from torch>=1.8.0->-r requirements.txt (line 15)) (4.11.0)\n",
            "Requirement already satisfied: sympy in /usr/local/lib/python3.10/dist-packages (from torch>=1.8.0->-r requirements.txt (line 15)) (1.12)\n",
            "Requirement already satisfied: networkx in /usr/local/lib/python3.10/dist-packages (from torch>=1.8.0->-r requirements.txt (line 15)) (3.3)\n",
            "Requirement already satisfied: jinja2 in /usr/local/lib/python3.10/dist-packages (from torch>=1.8.0->-r requirements.txt (line 15)) (3.1.3)\n",
            "Requirement already satisfied: fsspec in /usr/local/lib/python3.10/dist-packages (from torch>=1.8.0->-r requirements.txt (line 15)) (2023.6.0)\n",
            "Requirement already satisfied: nvidia-cuda-nvrtc-cu12==12.1.105 in /usr/local/lib/python3.10/dist-packages (from torch>=1.8.0->-r requirements.txt (line 15)) (12.1.105)\n",
            "Requirement already satisfied: nvidia-cuda-runtime-cu12==12.1.105 in /usr/local/lib/python3.10/dist-packages (from torch>=1.8.0->-r requirements.txt (line 15)) (12.1.105)\n",
            "Requirement already satisfied: nvidia-cuda-cupti-cu12==12.1.105 in /usr/local/lib/python3.10/dist-packages (from torch>=1.8.0->-r requirements.txt (line 15)) (12.1.105)\n",
            "Collecting nvidia-cudnn-cu12==8.9.2.26 (from torch>=1.8.0->-r requirements.txt (line 15))\n",
            "  Using cached nvidia_cudnn_cu12-8.9.2.26-py3-none-manylinux1_x86_64.whl (731.7 MB)\n",
            "Collecting nvidia-cublas-cu12==12.1.3.1 (from torch>=1.8.0->-r requirements.txt (line 15))\n",
            "  Using cached nvidia_cublas_cu12-12.1.3.1-py3-none-manylinux1_x86_64.whl (410.6 MB)\n",
            "Requirement already satisfied: nvidia-cufft-cu12==11.0.2.54 in /usr/local/lib/python3.10/dist-packages (from torch>=1.8.0->-r requirements.txt (line 15)) (11.0.2.54)\n",
            "Requirement already satisfied: nvidia-curand-cu12==10.3.2.106 in /usr/local/lib/python3.10/dist-packages (from torch>=1.8.0->-r requirements.txt (line 15)) (10.3.2.106)\n",
            "Collecting nvidia-cusolver-cu12==11.4.5.107 (from torch>=1.8.0->-r requirements.txt (line 15))\n",
            "  Using cached nvidia_cusolver_cu12-11.4.5.107-py3-none-manylinux1_x86_64.whl (124.2 MB)\n",
            "Collecting nvidia-cusparse-cu12==12.1.0.106 (from torch>=1.8.0->-r requirements.txt (line 15))\n",
            "  Using cached nvidia_cusparse_cu12-12.1.0.106-py3-none-manylinux1_x86_64.whl (196.0 MB)\n",
            "Requirement already satisfied: nvidia-nccl-cu12==2.19.3 in /usr/local/lib/python3.10/dist-packages (from torch>=1.8.0->-r requirements.txt (line 15)) (2.19.3)\n",
            "Requirement already satisfied: nvidia-nvtx-cu12==12.1.105 in /usr/local/lib/python3.10/dist-packages (from torch>=1.8.0->-r requirements.txt (line 15)) (12.1.105)\n",
            "Requirement already satisfied: triton==2.2.0 in /usr/local/lib/python3.10/dist-packages (from torch>=1.8.0->-r requirements.txt (line 15)) (2.2.0)\n",
            "Requirement already satisfied: nvidia-nvjitlink-cu12 in /usr/local/lib/python3.10/dist-packages (from nvidia-cusolver-cu12==11.4.5.107->torch>=1.8.0->-r requirements.txt (line 15)) (12.4.127)\n",
            "Requirement already satisfied: py-cpuinfo in /usr/local/lib/python3.10/dist-packages (from ultralytics>=8.0.232->-r requirements.txt (line 18)) (9.0.0)\n",
            "Requirement already satisfied: pytz>=2020.1 in /usr/local/lib/python3.10/dist-packages (from pandas>=1.1.4->-r requirements.txt (line 27)) (2023.4)\n",
            "Requirement already satisfied: tzdata>=2022.1 in /usr/local/lib/python3.10/dist-packages (from pandas>=1.1.4->-r requirements.txt (line 27)) (2024.1)\n",
            "Requirement already satisfied: smmap<6,>=3.0.1 in /usr/local/lib/python3.10/dist-packages (from gitdb<5,>=4.0.1->gitpython>=3.1.30->-r requirements.txt (line 5)) (5.0.1)\n",
            "Requirement already satisfied: six>=1.5 in /usr/local/lib/python3.10/dist-packages (from python-dateutil>=2.7->matplotlib>=3.3->-r requirements.txt (line 6)) (1.16.0)\n",
            "Requirement already satisfied: MarkupSafe>=2.0 in /usr/local/lib/python3.10/dist-packages (from jinja2->torch>=1.8.0->-r requirements.txt (line 15)) (2.1.5)\n",
            "Requirement already satisfied: mpmath>=0.19 in /usr/local/lib/python3.10/dist-packages (from sympy->torch>=1.8.0->-r requirements.txt (line 15)) (1.3.0)\n",
            "Installing collected packages: nvidia-cusparse-cu12, nvidia-cublas-cu12, gitdb, nvidia-cusolver-cu12, nvidia-cudnn-cu12, gitpython, thop, ultralytics\n",
            "Successfully installed gitdb-4.0.11 gitpython-3.1.43 nvidia-cublas-cu12-12.1.3.1 nvidia-cudnn-cu12-8.9.2.26 nvidia-cusolver-cu12-11.4.5.107 nvidia-cusparse-cu12-12.1.0.106 thop-0.1.1.post2209072238 ultralytics-8.2.6\n"
          ]
        }
      ]
    },
    {
      "cell_type": "markdown",
      "source": [
        "##데이터세트 가져오기\n",
        "\n",
        "위치는 https://public.roboflow.com/object-detection/wildfire-smoke/"
      ],
      "metadata": {
        "id": "dnuHO0KCGp7X"
      }
    },
    {
      "cell_type": "code",
      "source": [
        "#폴더를 만든다\n",
        "%mkdir /content/yolov5/smoke\n",
        "%cd /content/yolov5/smoke"
      ],
      "metadata": {
        "colab": {
          "base_uri": "https://localhost:8080/"
        },
        "id": "-ql8XURDHaKI",
        "outputId": "56ca8b48-af3b-434f-d4f1-bd4d2231b207"
      },
      "execution_count": null,
      "outputs": [
        {
          "output_type": "stream",
          "name": "stdout",
          "text": [
            "mkdir: cannot create directory ‘/content/yolov5/smoke’: File exists\n",
            "/content/yolov5/smoke\n"
          ]
        }
      ]
    },
    {
      "cell_type": "code",
      "source": [
        "!curl -L curl -L curl -L \"https://public.roboflow.com/ds/G24GbV9hy1?key=RVNXbCqui2\" > roboflow.zip; unzip roboflow.zip; rm roboflow.zip"
      ],
      "metadata": {
        "colab": {
          "base_uri": "https://localhost:8080/"
        },
        "id": "1v_lU0q5G0iW",
        "outputId": "47dc5d69-b4ac-480b-d0bd-0c204e3bc01a"
      },
      "execution_count": null,
      "outputs": [
        {
          "output_type": "stream",
          "name": "stdout",
          "text": [
            "  % Total    % Received % Xferd  Average Speed   Time    Time     Time  Current\n",
            "                                 Dload  Upload   Total   Spent    Left  Speed\n",
            "\r  0     0    0     0    0     0      0      0 --:--:-- --:--:-- --:--:--     0curl: (6) Could not resolve host: curl\n",
            "  % Total    % Received % Xferd  Average Speed   Time    Time     Time  Current\n",
            "                                 Dload  Upload   Total   Spent    Left  Speed\n",
            "\r  0     0    0     0    0     0      0      0 --:--:-- --:--:-- --:--:--     0curl: (6) Could not resolve host: curl\n",
            "  % Total    % Received % Xferd  Average Speed   Time    Time     Time  Current\n",
            "                                 Dload  Upload   Total   Spent    Left  Speed\n",
            "100   910  100   910    0     0   2936      0 --:--:-- --:--:-- --:--:--  2944\n",
            "100 27.6M  100 27.6M    0     0  19.3M      0  0:00:01  0:00:01 --:--:-- 42.7M\n",
            "Archive:  roboflow.zip\n",
            "replace test/images/ck0rqdyeq4kxa08633xv2wqe1_jpeg.rf.30df6babe258cdc1d5a4e042262665e4.jpg? [y]es, [n]o, [A]ll, [N]one, [r]ename: "
          ]
        }
      ]
    },
    {
      "cell_type": "markdown",
      "source": [
        "원본 DataSet의 구조를 알아보기"
      ],
      "metadata": {
        "id": "HBbAUj-IG7BQ"
      }
    },
    {
      "cell_type": "code",
      "source": [
        "!cat /content/yolov5/smoke/data.yaml"
      ],
      "metadata": {
        "colab": {
          "base_uri": "https://localhost:8080/"
        },
        "id": "uneWt0HgG7y_",
        "outputId": "b486d9c8-8e42-43cc-ffaa-bc652661db78"
      },
      "execution_count": null,
      "outputs": [
        {
          "output_type": "stream",
          "name": "stdout",
          "text": [
            "\n",
            "test: ./smoke/test/images\n",
            "train: ./smoke/train/images\n",
            "val: ./smoke/valid/images\n",
            "\n",
            "nc: 1\n",
            "names: ['smoke']\n"
          ]
        }
      ]
    },
    {
      "cell_type": "markdown",
      "source": [
        "##데이터의 구성을 확인한다"
      ],
      "metadata": {
        "id": "GBHfcfIxG84-"
      }
    },
    {
      "cell_type": "code",
      "source": [
        "from glob import glob\n",
        "train_img_list = glob('/content/yolov5/smoke/train/images/*.jpg')\n",
        "test_img_list = glob('/content/yolov5/smoke/valid/images/*.jpg')\n",
        "valid_img_list = glob('/content/yolov5/smoke/valid/images/*.jpg')\n",
        "print(len(train_img_list), len(test_img_list), len(valid_img_list))"
      ],
      "metadata": {
        "colab": {
          "base_uri": "https://localhost:8080/"
        },
        "id": "OOrcNNJNG9fs",
        "outputId": "8be42647-4234-40cb-d734-4d3c77ffdd51"
      },
      "execution_count": null,
      "outputs": [
        {
          "output_type": "stream",
          "name": "stdout",
          "text": [
            "516 147 147\n"
          ]
        }
      ]
    },
    {
      "cell_type": "markdown",
      "source": [
        "##데이터 list를 txt파일로 만든다"
      ],
      "metadata": {
        "id": "xp81Q_P2G-go"
      }
    },
    {
      "cell_type": "code",
      "source": [
        "import yaml\n",
        "with open('/content/yolov5/smoke/train.txt','w') as f:\n",
        "    f.write('\\n'.join(train_img_list) + '\\n')\n",
        "with open('/content/yolov5/smoke/test.txt','w') as f:\n",
        "    f.write('\\n'.join(test_img_list) + '\\n')\n",
        "with open('/content/yolov5/smoke/val.txt','w') as f:\n",
        "    f.write('\\n'.join(valid_img_list) + '\\n')"
      ],
      "metadata": {
        "id": "XEdepv-4G_Mw"
      },
      "execution_count": null,
      "outputs": []
    },
    {
      "cell_type": "markdown",
      "source": [
        "##프로그램 중에 사용할 함수를 정의합니다."
      ],
      "metadata": {
        "id": "geC3JCqoHAJO"
      }
    },
    {
      "cell_type": "markdown",
      "source": [
        "writetemplate이라는 함수"
      ],
      "metadata": {
        "id": "VYisclCeHoHm"
      }
    },
    {
      "cell_type": "code",
      "source": [
        "from IPython.core.magic import register_line_cell_magic\n",
        "\n",
        "@register_line_cell_magic\n",
        "def writetemplate(line,cell):\n",
        "    with open(line, 'w') as f:\n",
        "        f.write(cell.format(**globals()))"
      ],
      "metadata": {
        "id": "2pYJwqmVHpb-"
      },
      "execution_count": null,
      "outputs": []
    },
    {
      "cell_type": "markdown",
      "source": [
        "##이전에 확인했던 data.yaml의 내용을 수정합니다."
      ],
      "metadata": {
        "id": "MiiIJLknHqbX"
      }
    },
    {
      "cell_type": "markdown",
      "source": [
        "내용은 기존의 내용중에 데이터의 위치를 수정"
      ],
      "metadata": {
        "id": "AZ75AXkeHr82"
      }
    },
    {
      "cell_type": "markdown",
      "source": [
        "**참고1의 내용을 복사해서 경로만 수정함"
      ],
      "metadata": {
        "id": "jiu46SHMHtKu"
      }
    },
    {
      "cell_type": "code",
      "source": [
        "%%writetemplate /content/yolov5/smoke/data.yaml\n",
        "\n",
        "test: ./smoke/test/images\n",
        "train: ./smoke/train/images\n",
        "val: ./smoke/valid/images\n",
        "\n",
        "nc: 1\n",
        "names: ['smoke']"
      ],
      "metadata": {
        "id": "s9CyuD9xHtzd"
      },
      "execution_count": null,
      "outputs": []
    },
    {
      "cell_type": "code",
      "source": [
        "%cat /content/yolov5/smoke/data.yaml"
      ],
      "metadata": {
        "colab": {
          "base_uri": "https://localhost:8080/"
        },
        "id": "rDgsZhuAHuqQ",
        "outputId": "61039bbf-c3cd-4480-cb1c-2bfd24b18ed7"
      },
      "execution_count": null,
      "outputs": [
        {
          "output_type": "stream",
          "name": "stdout",
          "text": [
            "\n",
            "test: ./smoke/test/images\n",
            "train: ./smoke/train/images\n",
            "val: ./smoke/valid/images\n",
            "\n",
            "nc: 1\n",
            "names: ['smoke']\n"
          ]
        }
      ]
    },
    {
      "cell_type": "markdown",
      "source": [
        "##파인튜닝된 모델에서 사용할 custom_yolov5s.yaml을 만들기"
      ],
      "metadata": {
        "id": "QsNerpRtHxHv"
      }
    },
    {
      "cell_type": "markdown",
      "source": [
        "1.nc:3이라고 적힌 것을 읽어서 변수에 저장\n",
        "\n",
        "2.yolov5s.yaml 의 내용을 cat으로 확인하고 복사\n",
        "\n",
        "3.writeTemplate함수를 이용해서 새로 작성 nc:80이라고 적힌 부분만 nc:{num_classes}라는 변수로 대체"
      ],
      "metadata": {
        "id": "4JNcdf_LHx4m"
      }
    },
    {
      "cell_type": "code",
      "source": [
        "import yaml\n",
        "\n",
        "with open('/content/yolov5/smoke/data.yaml','r') as stream:\n",
        "  num_classes = str(yaml.safe_load(stream)['nc'])\n",
        "\n",
        "print (f'num_classes: = {num_classes}')\n",
        "\n",
        "%cat /content/yolov5/models/yolov5s.yaml"
      ],
      "metadata": {
        "colab": {
          "base_uri": "https://localhost:8080/"
        },
        "id": "W_5vNaqEHysu",
        "outputId": "1eefa1cb-b8a4-4267-8fe9-48c70deeaddb"
      },
      "execution_count": null,
      "outputs": [
        {
          "output_type": "stream",
          "name": "stdout",
          "text": [
            "num_classes: = 1\n",
            "# YOLOv5 🚀 by Ultralytics, AGPL-3.0 license\n",
            "\n",
            "# Parameters\n",
            "nc: 80 # number of classes\n",
            "depth_multiple: 0.33 # model depth multiple\n",
            "width_multiple: 0.50 # layer channel multiple\n",
            "anchors:\n",
            "  - [10, 13, 16, 30, 33, 23] # P3/8\n",
            "  - [30, 61, 62, 45, 59, 119] # P4/16\n",
            "  - [116, 90, 156, 198, 373, 326] # P5/32\n",
            "\n",
            "# YOLOv5 v6.0 backbone\n",
            "backbone:\n",
            "  # [from, number, module, args]\n",
            "  [\n",
            "    [-1, 1, Conv, [64, 6, 2, 2]], # 0-P1/2\n",
            "    [-1, 1, Conv, [128, 3, 2]], # 1-P2/4\n",
            "    [-1, 3, C3, [128]],\n",
            "    [-1, 1, Conv, [256, 3, 2]], # 3-P3/8\n",
            "    [-1, 6, C3, [256]],\n",
            "    [-1, 1, Conv, [512, 3, 2]], # 5-P4/16\n",
            "    [-1, 9, C3, [512]],\n",
            "    [-1, 1, Conv, [1024, 3, 2]], # 7-P5/32\n",
            "    [-1, 3, C3, [1024]],\n",
            "    [-1, 1, SPPF, [1024, 5]], # 9\n",
            "  ]\n",
            "\n",
            "# YOLOv5 v6.0 head\n",
            "head: [\n",
            "    [-1, 1, Conv, [512, 1, 1]],\n",
            "    [-1, 1, nn.Upsample, [None, 2, \"nearest\"]],\n",
            "    [[-1, 6], 1, Concat, [1]], # cat backbone P4\n",
            "    [-1, 3, C3, [512, False]], # 13\n",
            "\n",
            "    [-1, 1, Conv, [256, 1, 1]],\n",
            "    [-1, 1, nn.Upsample, [None, 2, \"nearest\"]],\n",
            "    [[-1, 4], 1, Concat, [1]], # cat backbone P3\n",
            "    [-1, 3, C3, [256, False]], # 17 (P3/8-small)\n",
            "\n",
            "    [-1, 1, Conv, [256, 3, 2]],\n",
            "    [[-1, 14], 1, Concat, [1]], # cat head P4\n",
            "    [-1, 3, C3, [512, False]], # 20 (P4/16-medium)\n",
            "\n",
            "    [-1, 1, Conv, [512, 3, 2]],\n",
            "    [[-1, 10], 1, Concat, [1]], # cat head P5\n",
            "    [-1, 3, C3, [1024, False]], # 23 (P5/32-large)\n",
            "\n",
            "    [[17, 20, 23], 1, Detect, [nc, anchors]], # Detect(P3, P4, P5)\n",
            "  ]\n"
          ]
        }
      ]
    },
    {
      "cell_type": "code",
      "source": [
        "%%writetemplate /content/yolov5/models/custom_yolov5s.yaml\n",
        "\n",
        "# Parameters\n",
        "nc: {num_classes} # number of classes\n",
        "depth_multiple: 0.33 # model depth multiple\n",
        "width_multiple: 0.50 # layer channel multiple\n",
        "anchors:\n",
        "  - [10, 13, 16, 30, 33, 23] # P3/8\n",
        "  - [30, 61, 62, 45, 59, 119] # P4/16\n",
        "  - [116, 90, 156, 198, 373, 326] # P5/32\n",
        "\n",
        "# YOLOv5 v6.0 backbone\n",
        "backbone:\n",
        "  # [from, number, module, args]\n",
        "  [\n",
        "    [-1, 1, Conv, [64, 6, 2, 2]], # 0-P1/2\n",
        "    [-1, 1, Conv, [128, 3, 2]], # 1-P2/4\n",
        "    [-1, 3, C3, [128]],\n",
        "    [-1, 1, Conv, [256, 3, 2]], # 3-P3/8\n",
        "    [-1, 6, C3, [256]],\n",
        "    [-1, 1, Conv, [512, 3, 2]], # 5-P4/16\n",
        "    [-1, 9, C3, [512]],\n",
        "    [-1, 1, Conv, [1024, 3, 2]], # 7-P5/32\n",
        "    [-1, 3, C3, [1024]],\n",
        "    [-1, 1, SPPF, [1024, 5]], # 9\n",
        "  ]\n",
        "\n",
        "# YOLOv5 v6.0 head\n",
        "head: [\n",
        "    [-1, 1, Conv, [512, 1, 1]],\n",
        "    [-1, 1, nn.Upsample, [None, 2, \"nearest\"]],\n",
        "    [[-1, 6], 1, Concat, [1]], # cat backbone P4\n",
        "    [-1, 3, C3, [512, False]], # 13\n",
        "\n",
        "    [-1, 1, Conv, [256, 1, 1]],\n",
        "    [-1, 1, nn.Upsample, [None, 2, \"nearest\"]],\n",
        "    [[-1, 4], 1, Concat, [1]], # cat backbone P3\n",
        "    [-1, 3, C3, [256, False]], # 17 (P3/8-small)\n",
        "\n",
        "    [-1, 1, Conv, [256, 3, 2]],\n",
        "    [[-1, 14], 1, Concat, [1]], # cat head P4\n",
        "    [-1, 3, C3, [512, False]], # 20 (P4/16-medium)\n",
        "\n",
        "    [-1, 1, Conv, [512, 3, 2]],\n",
        "    [[-1, 10], 1, Concat, [1]], # cat head P5\n",
        "    [-1, 3, C3, [1024, False]], # 23 (P5/32-large)\n",
        "\n",
        "    [[17, 20, 23], 1, Detect, [nc, anchors]], # Detect(P3, P4, P5)\n",
        "  ]"
      ],
      "metadata": {
        "id": "83apLARPH0h_"
      },
      "execution_count": null,
      "outputs": []
    },
    {
      "cell_type": "markdown",
      "source": [
        "##fine_tunning 모델에서 사용할 custom_yolov5s.yaml의 내용"
      ],
      "metadata": {
        "id": "DvPBPPSuH6IO"
      }
    },
    {
      "cell_type": "code",
      "source": [
        "%cat /content/yolov5/models/custom_yolov5s.yaml"
      ],
      "metadata": {
        "colab": {
          "base_uri": "https://localhost:8080/"
        },
        "id": "fk-vBHaPH6x2",
        "outputId": "5b2e451b-2010-46ee-9012-469c819e4c43"
      },
      "execution_count": null,
      "outputs": [
        {
          "output_type": "stream",
          "name": "stdout",
          "text": [
            "\n",
            "# Parameters\n",
            "nc: 1 # number of classes\n",
            "depth_multiple: 0.33 # model depth multiple\n",
            "width_multiple: 0.50 # layer channel multiple\n",
            "anchors:\n",
            "  - [10, 13, 16, 30, 33, 23] # P3/8\n",
            "  - [30, 61, 62, 45, 59, 119] # P4/16\n",
            "  - [116, 90, 156, 198, 373, 326] # P5/32\n",
            "\n",
            "# YOLOv5 v6.0 backbone\n",
            "backbone:\n",
            "  # [from, number, module, args]\n",
            "  [\n",
            "    [-1, 1, Conv, [64, 6, 2, 2]], # 0-P1/2\n",
            "    [-1, 1, Conv, [128, 3, 2]], # 1-P2/4\n",
            "    [-1, 3, C3, [128]],\n",
            "    [-1, 1, Conv, [256, 3, 2]], # 3-P3/8\n",
            "    [-1, 6, C3, [256]],\n",
            "    [-1, 1, Conv, [512, 3, 2]], # 5-P4/16\n",
            "    [-1, 9, C3, [512]],\n",
            "    [-1, 1, Conv, [1024, 3, 2]], # 7-P5/32\n",
            "    [-1, 3, C3, [1024]],\n",
            "    [-1, 1, SPPF, [1024, 5]], # 9\n",
            "  ]\n",
            "\n",
            "# YOLOv5 v6.0 head\n",
            "head: [\n",
            "    [-1, 1, Conv, [512, 1, 1]],\n",
            "    [-1, 1, nn.Upsample, [None, 2, \"nearest\"]],\n",
            "    [[-1, 6], 1, Concat, [1]], # cat backbone P4\n",
            "    [-1, 3, C3, [512, False]], # 13\n",
            "\n",
            "    [-1, 1, Conv, [256, 1, 1]],\n",
            "    [-1, 1, nn.Upsample, [None, 2, \"nearest\"]],\n",
            "    [[-1, 4], 1, Concat, [1]], # cat backbone P3\n",
            "    [-1, 3, C3, [256, False]], # 17 (P3/8-small)\n",
            "\n",
            "    [-1, 1, Conv, [256, 3, 2]],\n",
            "    [[-1, 14], 1, Concat, [1]], # cat head P4\n",
            "    [-1, 3, C3, [512, False]], # 20 (P4/16-medium)\n",
            "\n",
            "    [-1, 1, Conv, [512, 3, 2]],\n",
            "    [[-1, 10], 1, Concat, [1]], # cat head P5\n",
            "    [-1, 3, C3, [1024, False]], # 23 (P5/32-large)\n",
            "\n",
            "    [[17, 20, 23], 1, Detect, [nc, anchors]], # Detect(P3, P4, P5)\n",
            "  ]\n"
          ]
        }
      ]
    },
    {
      "cell_type": "markdown",
      "source": [
        "데이터 세트의 준비가 끝났습니다."
      ],
      "metadata": {
        "id": "e-3TX8ViH8-G"
      }
    },
    {
      "cell_type": "markdown",
      "source": [
        "##학습"
      ],
      "metadata": {
        "id": "4ZcXHldxH-I-"
      }
    },
    {
      "cell_type": "markdown",
      "source": [
        "1.학습에 사용되는 train.py는 gitclone했을때 생성되었으며\n",
        "\n",
        "2.코드 수정없이 다음 hyperParameter를 지정해서 사용한다."
      ],
      "metadata": {
        "id": "FB1SV253H-3o"
      }
    },
    {
      "cell_type": "markdown",
      "source": [
        "하이퍼 파라메터는 다음과 같다.\n",
        "\n",
        "1.img: 입력 이미지 크기 정의\n",
        "\n",
        "2.batch: 배치 크기 결정\n",
        "\n",
        "3.epochs: 학습 기간 개수 정의\n",
        "\n",
        "4.data: yaml 파일 경로\n",
        "\n",
        "5.cfg: 모델 구성 지정\n",
        "\n",
        "6.weights: 가중치에 대한 경로 지정\n",
        "\n",
        "7.name: 결과 이름\n",
        "\n",
        "8.nosave: 최종 체크포인트만 저장\n",
        "\n",
        "9.cache: 빠른 학습을 위한 이미지 캐시"
      ],
      "metadata": {
        "id": "uG1SwxByH_ie"
      }
    },
    {
      "cell_type": "markdown",
      "source": [
        "##학습시작"
      ],
      "metadata": {
        "id": "dyCXRVBCIAT3"
      }
    },
    {
      "cell_type": "code",
      "source": [
        "%%time\n",
        "%cd /content/yolov5/\n",
        "!python train.py --img 416 --batch 16 --epochs 10 --data ./smoke/data.yaml --cfg ./models/custom_yolov5s.yaml --weights '' --name smoke_result --cache"
      ],
      "metadata": {
        "colab": {
          "base_uri": "https://localhost:8080/"
        },
        "id": "5rn1XNBsIA2m",
        "outputId": "e9c7c5ee-1dc3-46e0-f49d-186a72a046b1"
      },
      "execution_count": null,
      "outputs": [
        {
          "output_type": "stream",
          "name": "stdout",
          "text": [
            "/content/yolov5\n",
            "2024-05-02 07:39:47.199355: E external/local_xla/xla/stream_executor/cuda/cuda_dnn.cc:9261] Unable to register cuDNN factory: Attempting to register factory for plugin cuDNN when one has already been registered\n",
            "2024-05-02 07:39:47.199427: E external/local_xla/xla/stream_executor/cuda/cuda_fft.cc:607] Unable to register cuFFT factory: Attempting to register factory for plugin cuFFT when one has already been registered\n",
            "2024-05-02 07:39:47.201776: E external/local_xla/xla/stream_executor/cuda/cuda_blas.cc:1515] Unable to register cuBLAS factory: Attempting to register factory for plugin cuBLAS when one has already been registered\n",
            "\u001b[34m\u001b[1mtrain: \u001b[0mweights=, cfg=./models/custom_yolov5s.yaml, data=./smoke/data.yaml, hyp=data/hyps/hyp.scratch-low.yaml, epochs=10, batch_size=16, imgsz=416, rect=False, resume=False, nosave=False, noval=False, noautoanchor=False, noplots=False, evolve=None, evolve_population=data/hyps, resume_evolve=None, bucket=, cache=ram, image_weights=False, device=, multi_scale=False, single_cls=False, optimizer=SGD, sync_bn=False, workers=8, project=runs/train, name=smoke_result, exist_ok=False, quad=False, cos_lr=False, label_smoothing=0.0, patience=100, freeze=[0], save_period=-1, seed=0, local_rank=-1, entity=None, upload_dataset=False, bbox_interval=-1, artifact_alias=latest, ndjson_console=False, ndjson_file=False\n",
            "\u001b[34m\u001b[1mgithub: \u001b[0mup to date with https://github.com/ultralytics/yolov5 ✅\n",
            "YOLOv5 🚀 v7.0-306-gb599ae42 Python-3.10.12 torch-2.2.1+cu121 CPU\n",
            "\n",
            "\u001b[34m\u001b[1mhyperparameters: \u001b[0mlr0=0.01, lrf=0.01, momentum=0.937, weight_decay=0.0005, warmup_epochs=3.0, warmup_momentum=0.8, warmup_bias_lr=0.1, box=0.05, cls=0.5, cls_pw=1.0, obj=1.0, obj_pw=1.0, iou_t=0.2, anchor_t=4.0, fl_gamma=0.0, hsv_h=0.015, hsv_s=0.7, hsv_v=0.4, degrees=0.0, translate=0.1, scale=0.5, shear=0.0, perspective=0.0, flipud=0.0, fliplr=0.5, mosaic=1.0, mixup=0.0, copy_paste=0.0\n",
            "\u001b[34m\u001b[1mComet: \u001b[0mrun 'pip install comet_ml' to automatically track and visualize YOLOv5 🚀 runs in Comet\n",
            "\u001b[34m\u001b[1mTensorBoard: \u001b[0mStart with 'tensorboard --logdir runs/train', view at http://localhost:6006/\n",
            "Downloading https://ultralytics.com/assets/Arial.ttf to /root/.config/Ultralytics/Arial.ttf...\n",
            "100% 755k/755k [00:00<00:00, 26.7MB/s]\n",
            "\n",
            "                 from  n    params  module                                  arguments                     \n",
            "  0                -1  1      3520  models.common.Conv                      [3, 32, 6, 2, 2]              \n",
            "  1                -1  1     18560  models.common.Conv                      [32, 64, 3, 2]                \n",
            "  2                -1  1     18816  models.common.C3                        [64, 64, 1]                   \n",
            "  3                -1  1     73984  models.common.Conv                      [64, 128, 3, 2]               \n",
            "  4                -1  2    115712  models.common.C3                        [128, 128, 2]                 \n",
            "  5                -1  1    295424  models.common.Conv                      [128, 256, 3, 2]              \n",
            "  6                -1  3    625152  models.common.C3                        [256, 256, 3]                 \n",
            "  7                -1  1   1180672  models.common.Conv                      [256, 512, 3, 2]              \n",
            "  8                -1  1   1182720  models.common.C3                        [512, 512, 1]                 \n",
            "  9                -1  1    656896  models.common.SPPF                      [512, 512, 5]                 \n",
            " 10                -1  1    131584  models.common.Conv                      [512, 256, 1, 1]              \n",
            " 11                -1  1         0  torch.nn.modules.upsampling.Upsample    [None, 2, 'nearest']          \n",
            " 12           [-1, 6]  1         0  models.common.Concat                    [1]                           \n",
            " 13                -1  1    361984  models.common.C3                        [512, 256, 1, False]          \n",
            " 14                -1  1     33024  models.common.Conv                      [256, 128, 1, 1]              \n",
            " 15                -1  1         0  torch.nn.modules.upsampling.Upsample    [None, 2, 'nearest']          \n",
            " 16           [-1, 4]  1         0  models.common.Concat                    [1]                           \n",
            " 17                -1  1     90880  models.common.C3                        [256, 128, 1, False]          \n",
            " 18                -1  1    147712  models.common.Conv                      [128, 128, 3, 2]              \n",
            " 19          [-1, 14]  1         0  models.common.Concat                    [1]                           \n",
            " 20                -1  1    296448  models.common.C3                        [256, 256, 1, False]          \n",
            " 21                -1  1    590336  models.common.Conv                      [256, 256, 3, 2]              \n",
            " 22          [-1, 10]  1         0  models.common.Concat                    [1]                           \n",
            " 23                -1  1   1182720  models.common.C3                        [512, 512, 1, False]          \n",
            " 24      [17, 20, 23]  1     16182  models.yolo.Detect                      [1, [[10, 13, 16, 30, 33, 23], [30, 61, 62, 45, 59, 119], [116, 90, 156, 198, 373, 326]], [128, 256, 512]]\n",
            "custom_YOLOv5s summary: 214 layers, 7022326 parameters, 7022326 gradients, 15.9 GFLOPs\n",
            "\n",
            "\u001b[34m\u001b[1moptimizer:\u001b[0m SGD(lr=0.01) with parameter groups 57 weight(decay=0.0), 60 weight(decay=0.0005), 60 bias\n",
            "\u001b[34m\u001b[1malbumentations: \u001b[0mBlur(p=0.01, blur_limit=(3, 7)), MedianBlur(p=0.01, blur_limit=(3, 7)), ToGray(p=0.01), CLAHE(p=0.01, clip_limit=(1, 4.0), tile_grid_size=(8, 8))\n",
            "/usr/lib/python3.10/multiprocessing/popen_fork.py:66: RuntimeWarning: os.fork() was called. os.fork() is incompatible with multithreaded code, and JAX is multithreaded, so this will likely lead to a deadlock.\n",
            "  self.pid = os.fork()\n",
            "\u001b[34m\u001b[1mtrain: \u001b[0mScanning /content/yolov5/smoke/train/labels... 516 images, 0 backgrounds, 0 corrupt: 100% 516/516 [00:01<00:00, 352.47it/s]\n",
            "\u001b[34m\u001b[1mtrain: \u001b[0mNew cache created: /content/yolov5/smoke/train/labels.cache\n",
            "\u001b[34m\u001b[1mtrain: \u001b[0mCaching images (0.2GB ram): 100% 516/516 [00:02<00:00, 173.34it/s]\n",
            "\u001b[34m\u001b[1mval: \u001b[0mScanning /content/yolov5/smoke/valid/labels... 147 images, 0 backgrounds, 0 corrupt: 100% 147/147 [00:00<00:00, 379.29it/s]\n",
            "\u001b[34m\u001b[1mval: \u001b[0mNew cache created: /content/yolov5/smoke/valid/labels.cache\n",
            "\u001b[34m\u001b[1mval: \u001b[0mCaching images (0.1GB ram): 100% 147/147 [00:01<00:00, 107.23it/s]\n",
            "\n",
            "\u001b[34m\u001b[1mAutoAnchor: \u001b[0m4.77 anchors/target, 1.000 Best Possible Recall (BPR). Current anchors are a good fit to dataset ✅\n",
            "Plotting labels to runs/train/smoke_result/labels.jpg... \n",
            "Image sizes 416 train, 416 val\n",
            "Using 2 dataloader workers\n",
            "Logging results to \u001b[1mruns/train/smoke_result\u001b[0m\n",
            "Starting training for 10 epochs...\n",
            "\n",
            "      Epoch    GPU_mem   box_loss   obj_loss   cls_loss  Instances       Size\n",
            "        0/9         0G     0.1113    0.01594          0         31        416:  70% 23/33 [03:50<01:33,  9.33s/it]"
          ]
        }
      ]
    },
    {
      "cell_type": "markdown",
      "source": [
        "##tensorBoard를 이용해서 결과 확인"
      ],
      "metadata": {
        "id": "iNpK5bmhICe2"
      }
    },
    {
      "cell_type": "markdown",
      "source": [
        "현재 폴더는 틀림없이 yolov5이다"
      ],
      "metadata": {
        "id": "uo4idjPqIDre"
      }
    },
    {
      "cell_type": "code",
      "source": [
        "%load_ext tensorboard\n",
        "%tensorboard --logdir runs"
      ],
      "metadata": {
        "id": "1x8jSVnAIDLm"
      },
      "execution_count": null,
      "outputs": []
    },
    {
      "cell_type": "markdown",
      "source": [
        "##우리가 최종적으로 갖게 되는 가중치 파일은"
      ],
      "metadata": {
        "id": "jEC6a4gcIGo3"
      }
    },
    {
      "cell_type": "markdown",
      "source": [
        "/content/yolov5/runs/train/_result/weights 폴더에\n",
        "\n",
        "다음 2개의 파일이 있다.\n",
        "\n",
        "best.pt - epoch중 가장 성능이 좋은 모델\n",
        "\n",
        "last.pt - 가장 마지막에 만들어진 모델"
      ],
      "metadata": {
        "id": "n4Va-X_QIHb-"
      }
    },
    {
      "cell_type": "markdown",
      "source": [
        "그래서 best.pt를 내 컴퓨터 또는 구글 드라이브에 다운 로드하여 두기로 한다."
      ],
      "metadata": {
        "id": "yxflkOxpIMSf"
      }
    },
    {
      "cell_type": "markdown",
      "source": [
        "##구글드라이브 연결하기"
      ],
      "metadata": {
        "id": "31Xmse-WIM8k"
      }
    },
    {
      "cell_type": "code",
      "source": [
        "from google.colab import drive\n",
        "drive.mount('/content/drive')"
      ],
      "metadata": {
        "id": "la0UqcFAINq_"
      },
      "execution_count": null,
      "outputs": []
    },
    {
      "cell_type": "markdown",
      "source": [
        "복사해두기"
      ],
      "metadata": {
        "id": "zpvFOhobIO4f"
      }
    },
    {
      "cell_type": "code",
      "source": [
        "!cp /content/yolov5/runs/train/_result/weights/best.pt /content/drive/MyDrive/yolov5Models/smoke.pt"
      ],
      "metadata": {
        "id": "Ed5BuKhhIUB-"
      },
      "execution_count": null,
      "outputs": []
    },
    {
      "cell_type": "markdown",
      "source": [
        "##Inference 성능시험"
      ],
      "metadata": {
        "id": "GYEPSFWsIVHY"
      }
    },
    {
      "cell_type": "markdown",
      "source": [
        "유튜브의 동영상을 다운로드해서 그 동영상내의 Object를 detection 할것이다. 그리고 결과는 mp4 파일로 저장한다."
      ],
      "metadata": {
        "id": "GDxyXUKUIVwO"
      }
    },
    {
      "cell_type": "markdown",
      "source": [
        "##chatGPT를 이용해서 유튜브 동영상을 다운로드 받게 도움 받는다"
      ],
      "metadata": {
        "id": "H0WXYTl_IWr-"
      }
    },
    {
      "cell_type": "markdown",
      "source": [
        "동영상은 임의의 것으로 모델의 성능 평가에 적합한것을 사용"
      ],
      "metadata": {
        "id": "qw6sl73GIXv4"
      }
    },
    {
      "cell_type": "code",
      "source": [
        "!pip install -U yt-dlp\n",
        "!yt-dlp -f 'best[ext=mp4]' --output \"input_video.mp4\" \"hhttps://www.youtube.com/watch?v=bUfwUnin9DE\""
      ],
      "metadata": {
        "id": "hYS_vFvTIYW2"
      },
      "execution_count": null,
      "outputs": []
    },
    {
      "cell_type": "code",
      "source": [
        "%pwd"
      ],
      "metadata": {
        "id": "LSUwv2E2IZae"
      },
      "execution_count": null,
      "outputs": []
    },
    {
      "cell_type": "code",
      "source": [
        "!python detect.py --weights /content/yolov5/runs/train/_result/weights/best.pt --img 640 --conf 0.25 --source input_video.mp4"
      ],
      "metadata": {
        "id": "wsLd2GkjIaNG"
      },
      "execution_count": null,
      "outputs": []
    }
  ]
}